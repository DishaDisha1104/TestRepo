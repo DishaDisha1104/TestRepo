{
  "metadata": {
    "kernelspec": {
      "name": "python",
      "display_name": "Python (Pyodide)",
      "language": "python"
    },
    "language_info": {
      "codemirror_mode": {
        "name": "python",
        "version": 3
      },
      "file_extension": ".py",
      "mimetype": "text/x-python",
      "name": "python",
      "nbconvert_exporter": "python",
      "pygments_lexer": "ipython3",
      "version": "3.8"
    }
  },
  "nbformat_minor": 5,
  "nbformat": 4,
  "cells": [
    {
      "id": "2af91d3b-1f00-4cbb-af60-d07fc549a29b",
      "cell_type": "markdown",
      "source": "# Data Science Tools and Ecosystem",
      "metadata": {}
    },
    {
      "id": "625fa8c7-5a5e-4e5d-a61f-6fe66b9a6341",
      "cell_type": "markdown",
      "source": "In this notebook, Data Science Tools and Ecosystem are summarized.",
      "metadata": {}
    },
    {
      "id": "5e098078-8d47-4dab-93f1-ca82c4bb44a7",
      "cell_type": "markdown",
      "source": "Some of the popular languages that are used by the Data Scientists include:\n1. C++\n2. Python\n3. SQL\n4. Python\n5. Java\netc..",
      "metadata": {}
    },
    {
      "id": "487c7b5f-7a5b-4d22-9aa9-d819037f8f03",
      "cell_type": "markdown",
      "source": "Some of the commonly used libraries used by Data Scientists include:\n1. NumPy\n2. SciPy\n3. TensorFlow\n4. Matplotlib\n5. Keras\n6. PyTorch\n7. Pandas\n8. SciKit-Learn etc..",
      "metadata": {}
    },
    {
      "id": "c445a65c-b65a-45c1-8206-4420c210a28a",
      "cell_type": "markdown",
      "source": "|Data Science Tools|\n|---|\n|TensorFlow|\n|SAS|\n|Apache Hadoop|",
      "metadata": {}
    },
    {
      "id": "e000cd57-f49c-4e6f-a540-68cf6f68fc4a",
      "cell_type": "markdown",
      "source": "### Below are a few examples of evaluating arithmetic expressions in Python",
      "metadata": {}
    },
    {
      "id": "01befb40-47d3-43c6-a33f-518035d44e90",
      "cell_type": "code",
      "source": "#This a simple arithmetic expression to mutiply then add integers\n(3*4)+5",
      "metadata": {
        "trusted": true
      },
      "outputs": [
        {
          "execution_count": 2,
          "output_type": "execute_result",
          "data": {
            "text/plain": "17"
          },
          "metadata": {}
        }
      ],
      "execution_count": 2
    },
    {
      "id": "5bdcbdee-86e7-4492-bfd9-991241053d45",
      "cell_type": "code",
      "source": "#This will convert 200 minutes to hours by diving by 60\n200/60",
      "metadata": {
        "trusted": true
      },
      "outputs": [
        {
          "execution_count": 3,
          "output_type": "execute_result",
          "data": {
            "text/plain": "3.3333333333333335"
          },
          "metadata": {}
        }
      ],
      "execution_count": 3
    },
    {
      "id": "40d36c19-fa9d-4ec2-835f-ab8823f8cfc3",
      "cell_type": "markdown",
      "source": "__Objective:__\n* List popular languages for Data Science\n* List popular libraries for Data Science\n* List of well-known data science tools\n* How to provide comments in the cell",
      "metadata": {}
    },
    {
      "id": "8f350b6b-3483-4d29-9d6b-00896a17ecbb",
      "cell_type": "markdown",
      "source": "## Author\nFNU Disha",
      "metadata": {}
    },
    {
      "id": "3d8edca6-4468-4fd9-b6e1-b054b923e737",
      "cell_type": "code",
      "source": "",
      "metadata": {
        "trusted": true
      },
      "outputs": [],
      "execution_count": null
    }
  ]
}